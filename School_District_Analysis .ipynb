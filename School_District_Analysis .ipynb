{
 "cells": [
  {
   "cell_type": "code",
   "execution_count": 1,
   "id": "9dbfb4f1",
   "metadata": {},
   "outputs": [],
   "source": [
    "import pandas as pd\n",
    "import os"
   ]
  },
  {
   "cell_type": "code",
   "execution_count": 2,
   "id": "0aba1d28",
   "metadata": {},
   "outputs": [],
   "source": [
    "# Create the path and import the data\n",
    "student_df = pd.read_csv('new_full_student_data.csv')"
   ]
  },
  {
   "cell_type": "code",
   "execution_count": 3,
   "id": "2fa2575d",
   "metadata": {},
   "outputs": [
    {
     "data": {
      "text/html": [
       "<div>\n",
       "<style scoped>\n",
       "    .dataframe tbody tr th:only-of-type {\n",
       "        vertical-align: middle;\n",
       "    }\n",
       "\n",
       "    .dataframe tbody tr th {\n",
       "        vertical-align: top;\n",
       "    }\n",
       "\n",
       "    .dataframe thead th {\n",
       "        text-align: right;\n",
       "    }\n",
       "</style>\n",
       "<table border=\"1\" class=\"dataframe\">\n",
       "  <thead>\n",
       "    <tr style=\"text-align: right;\">\n",
       "      <th></th>\n",
       "      <th>student_id</th>\n",
       "      <th>student_name</th>\n",
       "      <th>grade</th>\n",
       "      <th>school_name</th>\n",
       "      <th>reading_score</th>\n",
       "      <th>math_score</th>\n",
       "      <th>school_type</th>\n",
       "      <th>school_budget</th>\n",
       "    </tr>\n",
       "  </thead>\n",
       "  <tbody>\n",
       "    <tr>\n",
       "      <th>0</th>\n",
       "      <td>103880842</td>\n",
       "      <td>Travis Martin</td>\n",
       "      <td>9th</td>\n",
       "      <td>Sullivan High School</td>\n",
       "      <td>59.0</td>\n",
       "      <td>88.2</td>\n",
       "      <td>Public</td>\n",
       "      <td>961125</td>\n",
       "    </tr>\n",
       "    <tr>\n",
       "      <th>1</th>\n",
       "      <td>45069750</td>\n",
       "      <td>Michael Brown</td>\n",
       "      <td>9th</td>\n",
       "      <td>Dixon High School</td>\n",
       "      <td>94.7</td>\n",
       "      <td>73.5</td>\n",
       "      <td>Charter</td>\n",
       "      <td>870334</td>\n",
       "    </tr>\n",
       "    <tr>\n",
       "      <th>2</th>\n",
       "      <td>45024902</td>\n",
       "      <td>Gabriela Lucero</td>\n",
       "      <td>9th</td>\n",
       "      <td>Wagner High School</td>\n",
       "      <td>89.0</td>\n",
       "      <td>70.4</td>\n",
       "      <td>Public</td>\n",
       "      <td>846745</td>\n",
       "    </tr>\n",
       "    <tr>\n",
       "      <th>3</th>\n",
       "      <td>62582498</td>\n",
       "      <td>Susan Richardson</td>\n",
       "      <td>9th</td>\n",
       "      <td>Silva High School</td>\n",
       "      <td>69.7</td>\n",
       "      <td>80.3</td>\n",
       "      <td>Public</td>\n",
       "      <td>991918</td>\n",
       "    </tr>\n",
       "    <tr>\n",
       "      <th>4</th>\n",
       "      <td>16437227</td>\n",
       "      <td>Sherry Davis</td>\n",
       "      <td>11th</td>\n",
       "      <td>Bowers High School</td>\n",
       "      <td>NaN</td>\n",
       "      <td>27.5</td>\n",
       "      <td>Public</td>\n",
       "      <td>848324</td>\n",
       "    </tr>\n",
       "    <tr>\n",
       "      <th>...</th>\n",
       "      <td>...</td>\n",
       "      <td>...</td>\n",
       "      <td>...</td>\n",
       "      <td>...</td>\n",
       "      <td>...</td>\n",
       "      <td>...</td>\n",
       "      <td>...</td>\n",
       "      <td>...</td>\n",
       "    </tr>\n",
       "    <tr>\n",
       "      <th>19509</th>\n",
       "      <td>109236636</td>\n",
       "      <td>Robert Sawyer</td>\n",
       "      <td>12th</td>\n",
       "      <td>Silva High School</td>\n",
       "      <td>43.3</td>\n",
       "      <td>27.2</td>\n",
       "      <td>Public</td>\n",
       "      <td>991918</td>\n",
       "    </tr>\n",
       "    <tr>\n",
       "      <th>19510</th>\n",
       "      <td>63239258</td>\n",
       "      <td>David Herman</td>\n",
       "      <td>9th</td>\n",
       "      <td>Woods High School</td>\n",
       "      <td>52.1</td>\n",
       "      <td>80.4</td>\n",
       "      <td>Public</td>\n",
       "      <td>912243</td>\n",
       "    </tr>\n",
       "    <tr>\n",
       "      <th>19511</th>\n",
       "      <td>95516554</td>\n",
       "      <td>Megan Gill</td>\n",
       "      <td>11th</td>\n",
       "      <td>Wagner High School</td>\n",
       "      <td>93.9</td>\n",
       "      <td>84.1</td>\n",
       "      <td>Public</td>\n",
       "      <td>846745</td>\n",
       "    </tr>\n",
       "    <tr>\n",
       "      <th>19512</th>\n",
       "      <td>65050383</td>\n",
       "      <td>Lori Stone</td>\n",
       "      <td>11th</td>\n",
       "      <td>Bowers High School</td>\n",
       "      <td>94.6</td>\n",
       "      <td>70.9</td>\n",
       "      <td>Public</td>\n",
       "      <td>848324</td>\n",
       "    </tr>\n",
       "    <tr>\n",
       "      <th>19513</th>\n",
       "      <td>34720657</td>\n",
       "      <td>Anna Jensen</td>\n",
       "      <td>12th</td>\n",
       "      <td>Montgomery High School</td>\n",
       "      <td>82.3</td>\n",
       "      <td>42.4</td>\n",
       "      <td>Charter</td>\n",
       "      <td>893368</td>\n",
       "    </tr>\n",
       "  </tbody>\n",
       "</table>\n",
       "<p>19514 rows × 8 columns</p>\n",
       "</div>"
      ],
      "text/plain": [
       "       student_id      student_name grade             school_name  \\\n",
       "0       103880842     Travis Martin   9th    Sullivan High School   \n",
       "1        45069750     Michael Brown   9th       Dixon High School   \n",
       "2        45024902   Gabriela Lucero   9th      Wagner High School   \n",
       "3        62582498  Susan Richardson   9th       Silva High School   \n",
       "4        16437227      Sherry Davis  11th      Bowers High School   \n",
       "...           ...               ...   ...                     ...   \n",
       "19509   109236636     Robert Sawyer  12th       Silva High School   \n",
       "19510    63239258      David Herman   9th       Woods High School   \n",
       "19511    95516554        Megan Gill  11th      Wagner High School   \n",
       "19512    65050383        Lori Stone  11th      Bowers High School   \n",
       "19513    34720657       Anna Jensen  12th  Montgomery High School   \n",
       "\n",
       "       reading_score  math_score school_type  school_budget  \n",
       "0               59.0        88.2      Public         961125  \n",
       "1               94.7        73.5     Charter         870334  \n",
       "2               89.0        70.4      Public         846745  \n",
       "3               69.7        80.3      Public         991918  \n",
       "4                NaN        27.5      Public         848324  \n",
       "...              ...         ...         ...            ...  \n",
       "19509           43.3        27.2      Public         991918  \n",
       "19510           52.1        80.4      Public         912243  \n",
       "19511           93.9        84.1      Public         846745  \n",
       "19512           94.6        70.9      Public         848324  \n",
       "19513           82.3        42.4     Charter         893368  \n",
       "\n",
       "[19514 rows x 8 columns]"
      ]
     },
     "execution_count": 3,
     "metadata": {},
     "output_type": "execute_result"
    }
   ],
   "source": [
    "# Verify that the data was properly imported\n",
    "student_df"
   ]
  },
  {
   "cell_type": "code",
   "execution_count": 4,
   "id": "9e66ab98",
   "metadata": {},
   "outputs": [
    {
     "name": "stdout",
     "output_type": "stream",
     "text": [
      "Index(['student_id', 'student_name', 'grade', 'school_name', 'reading_score',\n",
      "       'math_score', 'school_type', 'school_budget'],\n",
      "      dtype='object')\n",
      "       student_id  student_name  grade  school_name  reading_score  \\\n",
      "0           False         False  False        False          False   \n",
      "1           False         False  False        False          False   \n",
      "2           False         False  False        False          False   \n",
      "3           False         False  False        False          False   \n",
      "4           False         False  False        False           True   \n",
      "...           ...           ...    ...          ...            ...   \n",
      "19509       False         False  False        False          False   \n",
      "19510       False         False  False        False          False   \n",
      "19511       False         False  False        False          False   \n",
      "19512       False         False  False        False          False   \n",
      "19513       False         False  False        False          False   \n",
      "\n",
      "       math_score  school_type  school_budget  \n",
      "0           False        False          False  \n",
      "1           False        False          False  \n",
      "2           False        False          False  \n",
      "3           False        False          False  \n",
      "4           False        False          False  \n",
      "...           ...          ...            ...  \n",
      "19509       False        False          False  \n",
      "19510       False        False          False  \n",
      "19511       False        False          False  \n",
      "19512       False        False          False  \n",
      "19513       False        False          False  \n",
      "\n",
      "[19514 rows x 8 columns]\n"
     ]
    },
    {
     "data": {
      "text/html": [
       "<div>\n",
       "<style scoped>\n",
       "    .dataframe tbody tr th:only-of-type {\n",
       "        vertical-align: middle;\n",
       "    }\n",
       "\n",
       "    .dataframe tbody tr th {\n",
       "        vertical-align: top;\n",
       "    }\n",
       "\n",
       "    .dataframe thead th {\n",
       "        text-align: right;\n",
       "    }\n",
       "</style>\n",
       "<table border=\"1\" class=\"dataframe\">\n",
       "  <thead>\n",
       "    <tr style=\"text-align: right;\">\n",
       "      <th></th>\n",
       "      <th>student_id</th>\n",
       "      <th>student_name</th>\n",
       "      <th>grade</th>\n",
       "      <th>school_name</th>\n",
       "      <th>reading_score</th>\n",
       "      <th>math_score</th>\n",
       "      <th>school_type</th>\n",
       "      <th>school_budget</th>\n",
       "    </tr>\n",
       "  </thead>\n",
       "  <tbody>\n",
       "    <tr>\n",
       "      <th>0</th>\n",
       "      <td>103880842</td>\n",
       "      <td>Travis Martin</td>\n",
       "      <td>9th</td>\n",
       "      <td>Sullivan High School</td>\n",
       "      <td>59.0</td>\n",
       "      <td>88.2</td>\n",
       "      <td>Public</td>\n",
       "      <td>961125</td>\n",
       "    </tr>\n",
       "    <tr>\n",
       "      <th>1</th>\n",
       "      <td>45069750</td>\n",
       "      <td>Michael Brown</td>\n",
       "      <td>9th</td>\n",
       "      <td>Dixon High School</td>\n",
       "      <td>94.7</td>\n",
       "      <td>73.5</td>\n",
       "      <td>Charter</td>\n",
       "      <td>870334</td>\n",
       "    </tr>\n",
       "    <tr>\n",
       "      <th>2</th>\n",
       "      <td>45024902</td>\n",
       "      <td>Gabriela Lucero</td>\n",
       "      <td>9th</td>\n",
       "      <td>Wagner High School</td>\n",
       "      <td>89.0</td>\n",
       "      <td>70.4</td>\n",
       "      <td>Public</td>\n",
       "      <td>846745</td>\n",
       "    </tr>\n",
       "    <tr>\n",
       "      <th>3</th>\n",
       "      <td>62582498</td>\n",
       "      <td>Susan Richardson</td>\n",
       "      <td>9th</td>\n",
       "      <td>Silva High School</td>\n",
       "      <td>69.7</td>\n",
       "      <td>80.3</td>\n",
       "      <td>Public</td>\n",
       "      <td>991918</td>\n",
       "    </tr>\n",
       "    <tr>\n",
       "      <th>5</th>\n",
       "      <td>74579444</td>\n",
       "      <td>Cynthia Johnson</td>\n",
       "      <td>9th</td>\n",
       "      <td>Montgomery High School</td>\n",
       "      <td>63.5</td>\n",
       "      <td>76.9</td>\n",
       "      <td>Charter</td>\n",
       "      <td>893368</td>\n",
       "    </tr>\n",
       "  </tbody>\n",
       "</table>\n",
       "</div>"
      ],
      "text/plain": [
       "   student_id      student_name grade             school_name  reading_score  \\\n",
       "0   103880842     Travis Martin   9th    Sullivan High School           59.0   \n",
       "1    45069750     Michael Brown   9th       Dixon High School           94.7   \n",
       "2    45024902   Gabriela Lucero   9th      Wagner High School           89.0   \n",
       "3    62582498  Susan Richardson   9th       Silva High School           69.7   \n",
       "5    74579444   Cynthia Johnson   9th  Montgomery High School           63.5   \n",
       "\n",
       "   math_score school_type  school_budget  \n",
       "0        88.2      Public         961125  \n",
       "1        73.5     Charter         870334  \n",
       "2        70.4      Public         846745  \n",
       "3        80.3      Public         991918  \n",
       "5        76.9     Charter         893368  "
      ]
     },
     "execution_count": 4,
     "metadata": {},
     "output_type": "execute_result"
    }
   ],
   "source": [
    "print(student_df.columns)\n",
    "# Check for null values\n",
    "null_values = student_df.isnull()\n",
    "print(null_values)\n",
    "# Drop rows with null values and verify removal\n",
    "student_df = student_df[student_df != 'False'].dropna()\n",
    "student_df.head()"
   ]
  },
  {
   "cell_type": "code",
   "execution_count": 5,
   "id": "48148073",
   "metadata": {},
   "outputs": [
    {
     "name": "stdout",
     "output_type": "stream",
     "text": [
      "0        False\n",
      "1        False\n",
      "2        False\n",
      "3        False\n",
      "5        False\n",
      "         ...  \n",
      "19509    False\n",
      "19510     True\n",
      "19511    False\n",
      "19512    False\n",
      "19513    False\n",
      "Length: 16667, dtype: bool\n"
     ]
    }
   ],
   "source": [
    "# Check for duplicated rows\n",
    "student_df_noduplicates = student_df.duplicated()\n",
    "print(student_df_noduplicates)"
   ]
  },
  {
   "cell_type": "code",
   "execution_count": 6,
   "id": "065496a1",
   "metadata": {},
   "outputs": [
    {
     "name": "stdout",
     "output_type": "stream",
     "text": [
      "       student_id      student_name grade             school_name  \\\n",
      "0       103880842     Travis Martin   9th    Sullivan High School   \n",
      "1        45069750     Michael Brown   9th       Dixon High School   \n",
      "2        45024902   Gabriela Lucero   9th      Wagner High School   \n",
      "3        62582498  Susan Richardson   9th       Silva High School   \n",
      "5        74579444   Cynthia Johnson   9th  Montgomery High School   \n",
      "...           ...               ...   ...                     ...   \n",
      "19508    83985333   Deborah Sanders  10th       Silva High School   \n",
      "19509   109236636     Robert Sawyer  12th       Silva High School   \n",
      "19511    95516554        Megan Gill  11th      Wagner High School   \n",
      "19512    65050383        Lori Stone  11th      Bowers High School   \n",
      "19513    34720657       Anna Jensen  12th  Montgomery High School   \n",
      "\n",
      "       reading_score  math_score school_type  school_budget  \n",
      "0               59.0        88.2      Public         961125  \n",
      "1               94.7        73.5     Charter         870334  \n",
      "2               89.0        70.4      Public         846745  \n",
      "3               69.7        80.3      Public         991918  \n",
      "5               63.5        76.9     Charter         893368  \n",
      "...              ...         ...         ...            ...  \n",
      "19508           60.5        64.6      Public         991918  \n",
      "19509           43.3        27.2      Public         991918  \n",
      "19511           93.9        84.1      Public         846745  \n",
      "19512           94.6        70.9      Public         848324  \n",
      "19513           82.3        42.4     Charter         893368  \n",
      "\n",
      "[14831 rows x 8 columns]\n"
     ]
    }
   ],
   "source": [
    "# Drop duplicated rows and verify removal\n",
    "student_df = student_df.drop_duplicates()\n",
    "print(student_df)"
   ]
  },
  {
   "cell_type": "code",
   "execution_count": 7,
   "id": "885e627f",
   "metadata": {},
   "outputs": [
    {
     "data": {
      "text/plain": [
       "student_id         int64\n",
       "student_name      object\n",
       "grade             object\n",
       "school_name       object\n",
       "reading_score    float64\n",
       "math_score       float64\n",
       "school_type       object\n",
       "school_budget      int64\n",
       "dtype: object"
      ]
     },
     "execution_count": 7,
     "metadata": {},
     "output_type": "execute_result"
    }
   ],
   "source": [
    "# Check data types\n",
    "student_df.dtypes"
   ]
  },
  {
   "cell_type": "code",
   "execution_count": 8,
   "id": "a9743252",
   "metadata": {},
   "outputs": [
    {
     "name": "stdout",
     "output_type": "stream",
     "text": [
      "object\n"
     ]
    }
   ],
   "source": [
    "print(student_df['grade'].dtype)"
   ]
  },
  {
   "cell_type": "code",
   "execution_count": 9,
   "id": "373ac1dd",
   "metadata": {},
   "outputs": [],
   "source": [
    "# Remove the non-numeric characters and verify the contents of the column\n",
    "student_df['grade']=student_df['grade'].str.replace('[^0-9\\.]', '', regex=True)"
   ]
  },
  {
   "cell_type": "code",
   "execution_count": 10,
   "id": "29120fcf",
   "metadata": {},
   "outputs": [],
   "source": [
    "student_df['grade'] = pd.to_numeric(student_df['grade'])"
   ]
  },
  {
   "cell_type": "code",
   "execution_count": 11,
   "id": "851c38ba",
   "metadata": {},
   "outputs": [
    {
     "name": "stdout",
     "output_type": "stream",
     "text": [
      "int64\n",
      "0         9\n",
      "1         9\n",
      "2         9\n",
      "3         9\n",
      "5         9\n",
      "         ..\n",
      "19508    10\n",
      "19509    12\n",
      "19511    11\n",
      "19512    11\n",
      "19513    12\n",
      "Name: grade, Length: 14831, dtype: int64\n"
     ]
    }
   ],
   "source": [
    "# Change the grade column to the int type and verify column types\n",
    "print(student_df['grade'].dtype)\n",
    "print(student_df['grade'])"
   ]
  },
  {
   "cell_type": "code",
   "execution_count": 13,
   "id": "fe3e3f91",
   "metadata": {},
   "outputs": [
    {
     "name": "stdout",
     "output_type": "stream",
     "text": [
      "         student_id         grade  reading_score    math_score  school_budget\n",
      "count  1.483100e+04  14831.000000   14831.000000  14831.000000   14831.000000\n",
      "mean   6.975296e+07     10.355539      72.357865     64.675733  893742.749107\n",
      "std    3.452909e+07      1.097728      15.224590     15.844093   53938.066467\n",
      "min    1.000906e+07      9.000000      10.500000      3.700000  817615.000000\n",
      "25%    3.984433e+07      9.000000      62.200000     54.500000  846745.000000\n",
      "50%    6.965978e+07     10.000000      73.800000     65.300000  893368.000000\n",
      "75%    9.927449e+07     11.000000      84.000000     76.000000  956438.000000\n",
      "max    1.299997e+08     12.000000     100.000000    100.000000  991918.000000\n"
     ]
    }
   ],
   "source": [
    "# Display summary statistics for the DataFrame\n",
    "student_df = pd.DataFrame(student_df)\n",
    "print(student_df.describe())"
   ]
  },
  {
   "cell_type": "code",
   "execution_count": 14,
   "id": "f02e8b67",
   "metadata": {},
   "outputs": [
    {
     "name": "stdout",
     "output_type": "stream",
     "text": [
      "64.67573326141189\n"
     ]
    }
   ],
   "source": [
    "# Display the mean math score using the mean function\n",
    "mean_score = student_df['math_score'].mean()\n",
    "print(mean_score)"
   ]
  },
  {
   "cell_type": "code",
   "execution_count": 15,
   "id": "a179ba1c",
   "metadata": {},
   "outputs": [
    {
     "name": "stdout",
     "output_type": "stream",
     "text": [
      "10.5\n"
     ]
    }
   ],
   "source": [
    "# Store the minimum reading score as min_reading_score\n",
    "min_reading_score = student_df['reading_score'].min()\n",
    "print(min_reading_score)"
   ]
  },
  {
   "cell_type": "code",
   "execution_count": 16,
   "id": "a640a826",
   "metadata": {},
   "outputs": [
    {
     "name": "stdout",
     "output_type": "stream",
     "text": [
      "0         9\n",
      "1         9\n",
      "2         9\n",
      "3         9\n",
      "5         9\n",
      "         ..\n",
      "19508    10\n",
      "19509    12\n",
      "19511    11\n",
      "19512    11\n",
      "19513    12\n",
      "Name: grade, Length: 14831, dtype: int64\n"
     ]
    }
   ],
   "source": [
    "# Use loc to display the grade column\n",
    "grade_col = student_df.loc[:, 'grade']\n",
    "print(grade_col)"
   ]
  },
  {
   "cell_type": "code",
   "execution_count": 18,
   "id": "124f529f",
   "metadata": {},
   "outputs": [
    {
     "name": "stdout",
     "output_type": "stream",
     "text": [
      "   grade           school_name  reading_score\n",
      "0      9  Sullivan High School           59.0\n",
      "1      9     Dixon High School           94.7\n",
      "2      9    Wagner High School           89.0\n"
     ]
    }
   ],
   "source": [
    "# Use `iloc` to display the first 3 rows and columns 3, 4, and 5.\n",
    "subset = student_df.iloc[:3, 2:5]\n",
    "print(subset)"
   ]
  },
  {
   "cell_type": "code",
   "execution_count": 19,
   "id": "7758fcc8",
   "metadata": {},
   "outputs": [
    {
     "name": "stdout",
     "output_type": "stream",
     "text": [
      "         student_id   grade  reading_score   math_score  school_budget\n",
      "count  4.132000e+03  4132.0    4132.000000  4132.000000    4132.000000\n",
      "mean   6.979441e+07     9.0      69.236713    66.585624  898692.606002\n",
      "std    3.470565e+07     0.0      15.277354    16.661533   54891.596611\n",
      "min    1.000906e+07     9.0      17.900000     5.300000  817615.000000\n",
      "25%    3.953848e+07     9.0      59.000000    56.000000  846745.000000\n",
      "50%    6.984037e+07     9.0      70.050000    67.800000  893368.000000\n",
      "75%    9.939504e+07     9.0      80.500000    78.500000  957299.000000\n",
      "max    1.299997e+08     9.0      99.900000   100.000000  991918.000000\n"
     ]
    }
   ],
   "source": [
    "# Select the rows for grade nine and display their summary statistics using `loc` and `describe`.\n",
    "grade_nine_df = student_df.loc[student_df['grade'] == 9]\n",
    "print(grade_nine_df.describe())"
   ]
  },
  {
   "cell_type": "code",
   "execution_count": 21,
   "id": "4bfe43ae",
   "metadata": {},
   "outputs": [],
   "source": [
    "min_reading_score = student_df['reading_score'].min()\n",
    "min_reading_row = student_df.loc[student_df['reading_score'] == min_reading_score]"
   ]
  },
  {
   "cell_type": "code",
   "execution_count": 22,
   "id": "6397d6d1",
   "metadata": {},
   "outputs": [],
   "source": [
    "# Use loc with conditionals to select all reading scores from 10th graders at Dixon High School.\n",
    "dixon_10th_reading_scores = student_df.loc[(student_df['grade'] == 10) & (student_df['school_name'] == 'Dixon High School'), 'reading_score']\n"
   ]
  },
  {
   "cell_type": "code",
   "execution_count": 24,
   "id": "66c5a6d5",
   "metadata": {},
   "outputs": [
    {
     "name": "stdout",
     "output_type": "stream",
     "text": [
      "74.90038089192188\n"
     ]
    }
   ],
   "source": [
    "# Find the mean reading score for all students in grades 11 and 12 combined.\n",
    "mean_reading1112 = (student_df['grade'] == 11) | (student_df['grade'] == 12)\n",
    "mean_reading_score = student_df.loc[mean_reading1112, 'reading_score'].mean()\n",
    "print(mean_reading_score)\n"
   ]
  },
  {
   "cell_type": "code",
   "execution_count": 26,
   "id": "aa4137ed",
   "metadata": {},
   "outputs": [
    {
     "name": "stdout",
     "output_type": "stream",
     "text": [
      "             reading_score  math_score\n",
      "school_type                           \n",
      "Charter          72.450603   66.761883\n",
      "Public           72.281219   62.951576\n"
     ]
    }
   ],
   "source": [
    "# Group by school type and calculate the mean of reading and math scores\n",
    "scores_by_type = student_df.groupby('school_type').mean()[['reading_score', 'math_score']]\n",
    "print(scores_by_type)\n"
   ]
  },
  {
   "cell_type": "code",
   "execution_count": 28,
   "id": "639c2fb3",
   "metadata": {},
   "outputs": [
    {
     "name": "stdout",
     "output_type": "stream",
     "text": [
      "school_name\n",
      "Montgomery High School    2038\n",
      "Green High School         1961\n",
      "Dixon High School         1583\n",
      "Wagner High School        1541\n",
      "Silva High School         1109\n",
      "Woods High School         1052\n",
      "Sullivan High School       971\n",
      "Turner High School         846\n",
      "Bowers High School         803\n",
      "Fisher High School         798\n",
      "Richard High School        551\n",
      "Campos High School         541\n",
      "Odonnell High School       459\n",
      "Campbell High School       407\n",
      "Chang High School          171\n",
      "Name: student_id, dtype: int64\n"
     ]
    }
   ],
   "source": [
    "# Use the `groupby`, `count`, and `sort_values` functions to find the\n",
    "# total number of students at each school and sort from most students to least students.\n",
    "student_count_by_school = student_df.groupby('school_name')['student_id'].count().sort_values(ascending=False)\n",
    "print(student_count_by_school)\n"
   ]
  },
  {
   "cell_type": "code",
   "execution_count": null,
   "id": "30a8399c",
   "metadata": {},
   "outputs": [],
   "source": [
    "# Deliverable 6: Summarize Your Findings\n",
    "#By applying the the different methods from pandas I was able to jump into several conclusions regarding academic results in the data set provided.\n",
    "#1 Charter schools schools tend to be better than public schools in the reading and math sectors, therefore we could conclude that school budget also has a direct impact in the students grades\n",
    "#9th and 10th grade students tend to have better grades than juniors and seniors"
   ]
  }
 ],
 "metadata": {
  "kernelspec": {
   "display_name": "Python 3 (ipykernel)",
   "language": "python",
   "name": "python3"
  },
  "language_info": {
   "codemirror_mode": {
    "name": "ipython",
    "version": 3
   },
   "file_extension": ".py",
   "mimetype": "text/x-python",
   "name": "python",
   "nbconvert_exporter": "python",
   "pygments_lexer": "ipython3",
   "version": "3.9.12"
  }
 },
 "nbformat": 4,
 "nbformat_minor": 5
}
